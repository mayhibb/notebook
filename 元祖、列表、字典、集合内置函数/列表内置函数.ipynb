{
 "cells": [
  {
   "cell_type": "markdown",
   "metadata": {},
   "source": [
    "# list\n",
    "\n",
    "## append(self, object, /)\n",
    "- Append object to the end of the list.\n",
    "\n",
    "## clear(self, /)\n",
    "- Remove all items from list.\n",
    "\n",
    "## copy(self, /)\n",
    "- Return a shallow copy of the list.\n",
    "\n",
    "## count(self, value, /)\n",
    "- Return number of occurrences of value.\n",
    "\n",
    "## extend(self, iterable, /)\n",
    "- Extend list by appending elements from the iterable.\n",
    "\n",
    "## index(self, value, start=0, stop=9223372036854775807, /)\n",
    "- Return first index of value.\n",
    "- Raises ValueError if the value is not present.\n",
    "\n",
    "## insert(self, index, object, /)\n",
    "- Insert object before index.\n",
    "\n",
    "## pop(self, index=-1, /)\n",
    "- Remove and return item at index (default last).\n",
    "- Raises IndexError if list is empty or index is out of range.\n",
    "\n",
    "## remove(self, value, /)\n",
    "- Remove first occurrence of value.\n",
    "- Raises ValueError if the value is not present.\n",
    "\n",
    "## reverse(self, /)\n",
    "- Reverse *IN PLACE*.\n",
    "\n",
    "## sort(self, /, *, key=None, reverse=False)\n",
    "- Stable sort *IN PLACE*."
   ]
  },
  {
   "cell_type": "code",
   "execution_count": 13,
   "metadata": {},
   "outputs": [
    {
     "name": "stdout",
     "output_type": "stream",
     "text": [
      "[1, 2, 3, 4, 5, 6, 7, 8, 9, 3, 3, 3, 3]\n",
      "['a', 'b', 'c', 'd', 'e', 'f', 'g']\n",
      "None\n",
      "None\n",
      "[1, 2, 3, 4, 5, 6, 7, 8, 9, 3, 3, 3, 3, 222, 222]\n",
      "['a', 'b', 'c', 'd', 'e', 'f', 'g', [1, 2, 3, 4], [1, 2, 3, 4]]\n",
      "[1, 2, 3, 4, 'e', 'f', 'g', [1, 2, 3, 4], [1, 2, 3, 4]]\n",
      "[1, 2, 3, 4, 'e', 'f', 'g', [1, 2, 3, 4], [1, 2, 3, 4]]\n"
     ]
    }
   ],
   "source": [
    "l1 = [1,2,3,4,5,6,7,8,9,3,3,3,3]\n",
    "l2 = [\"a\",\"b\",\"c\",\"d\",\"e\",\"f\",\"g\"]\n",
    "\n",
    "print(l1)\n",
    "print(l2)\n",
    "print(l1.append(222))\n",
    "print(l2.\n",
    "l2.append([1,2,3,4])append([1,2,3,4]))\n",
    "l1.append(222)\n",
    "print(l1)\n",
    "print(l2)\n",
    "\n",
    "l3 = l1[:4] + l2[4:] # +可以使用，但正规一点用extend\n",
    "l4 = []\n",
    "l4.extend(l1[:4])\n",
    "l4.extend(l2[4:])\n",
    "print(l3)\n",
    "print(l4)"
   ]
  },
  {
   "cell_type": "code",
   "execution_count": 4,
   "metadata": {},
   "outputs": [
    {
     "name": "stdout",
     "output_type": "stream",
     "text": [
      "[1, 2, 3, 4, 5, 6, 7, 8, 9, 3, 3, 3, 3]\n",
      "['a', 'b', 'c', 'd', 'e', 'f', 'g']\n",
      "[]\n"
     ]
    }
   ],
   "source": [
    "l1 = [1,2,3,4,5,6,7,8,9,3,3,3,3]\n",
    "l2 = [\"a\",\"b\",\"c\",\"d\",\"e\",\"f\",\"g\"]\n",
    "\n",
    "print(l1)\n",
    "print(l2)\n",
    "\n",
    "l1.clear()\n",
    "print(l1)"
   ]
  },
  {
   "cell_type": "code",
   "execution_count": 6,
   "metadata": {},
   "outputs": [
    {
     "name": "stdout",
     "output_type": "stream",
     "text": [
      "[1, 2, 3, 4, 5, 6, 7, 8, 9, 3, 3, 3, 3]\n",
      "['a', 'b', 'c', 'd', 'e', 'f', 'g']\n",
      "[1, 2, 3, 4, 5, 6, 7, 8, 9, 3, 3, 3, 3]\n",
      "2031498792328\n",
      "2031498789768\n",
      "[1, 2, 3, 4, 5, 6, 7, 8, 9, 3, 3, 3, 3]\n",
      "2031499466440\n"
     ]
    }
   ],
   "source": [
    "l1 = [1,2,3,4,5,6,7,8,9,3,3,3,3]\n",
    "l2 = [\"a\",\"b\",\"c\",\"d\",\"e\",\"f\",\"g\"]\n",
    "\n",
    "print(l1)\n",
    "print(l2)\n",
    "\n",
    "l3 = l1.copy()\n",
    "print(l3)\n",
    "print(id(l1))\n",
    "print(id(l3))\n",
    "l4 = l1[:]\n",
    "print(l4)\n",
    "print(id(l4))\n"
   ]
  },
  {
   "cell_type": "code",
   "execution_count": 16,
   "metadata": {},
   "outputs": [
    {
     "name": "stdout",
     "output_type": "stream",
     "text": [
      "['a', 1, 2, 3, 4, 5, 6, 7, 8, 9, 3, 3, 3, 3]\n",
      "3\n",
      "['a', 1, 2, 3, 4, 5, 6, 7, 8, 9, 3, 3, 3]\n",
      "a\n",
      "[1, 2, 3, 4, 5, 6, 7, 8, 9, 3, 3, 3]\n"
     ]
    }
   ],
   "source": [
    "# insert\n",
    "l1 = [1,2,3,4,5,6,7,8,9,3,3,3,3]\n",
    "l2 = [\"a\",\"b\",\"c\",\"d\",\"e\",\"f\",\"g\"]\n",
    "\n",
    "l1.insert(0,\"a\")\n",
    "print(l1)\n",
    "print(l1.pop())\n",
    "print(l1)\n",
    "print(l1.pop(0))\n",
    "print(l1)"
   ]
  },
  {
   "cell_type": "code",
   "execution_count": 24,
   "metadata": {},
   "outputs": [
    {
     "name": "stdout",
     "output_type": "stream",
     "text": [
      "[1, 2, 4, 5, 6, 7, 8, 9, 3, 3, 3, 3]\n",
      "[1, 2, 4, 5, 6, 7, 8, 9, 3, 3]\n",
      "[1, 2, 4, 5, 6, 7, 8, 9]\n"
     ]
    }
   ],
   "source": [
    "l1 = [1,2,3,4,5,6,7,8,9,3,3,3,3]\n",
    "l2 = [\"a\",\"b\",\"c\",\"d\",\"e\",\"f\",\"g\"]\n",
    "\n",
    "l1.remove(3)\n",
    "print(l1) # 去掉了第一次出现的3\n",
    "\n",
    "# 怎么去除所有的3\n",
    "l1 = [1,2,3,4,5,6,7,8,9,3,3,3,3]\n",
    "for i in l1:\n",
    "    if i == 3:\n",
    "        l1.remove(3)     \n",
    "print(l1)\n",
    "# 发现没按照设想运行，去掉所有的3，迭代器里删除时会出现意想不到的错误的\n",
    "\n",
    "\n",
    "l1 = [1,2,3,4,5,6,7,8,9,3,3,3,3]\n",
    "# 改进,\n",
    "for i in l1[:]:\n",
    "    if i == 3:\n",
    "        l1.remove(3)\n",
    "print(l1)"
   ]
  },
  {
   "cell_type": "code",
   "execution_count": 23,
   "metadata": {},
   "outputs": [
    {
     "name": "stdout",
     "output_type": "stream",
     "text": [
      "[2222, 2, 3, 4, 55, 1321, 67, 8, 8, 9, 9, 0, 321, 3, 6456, 4, 63, 13123141421]\n",
      "[13123141421, 63, 4, 6456, 3, 321, 0, 9, 9, 8, 8, 67, 1321, 55, 4, 3, 2, 2222]\n",
      "[0, 2, 3, 3, 4, 4, 8, 8, 9, 9, 55, 63, 67, 321, 1321, 2222, 6456, 13123141421]\n",
      "[13123141421, 6456, 2222, 1321, 321, 67, 63, 55, 9, 9, 8, 8, 4, 4, 3, 3, 2, 0]\n"
     ]
    }
   ],
   "source": [
    "l1 = [2222,2,3,4,55,1321,67,8,8,9,9,0,321,3,6456,4,63,13123141421]\n",
    "print(l1)\n",
    "l1.reverse()\n",
    "print(l1)\n",
    "l1.sort()\n",
    "print(l1)\n",
    "l1.reverse()\n",
    "print(l1)"
   ]
  },
  {
   "cell_type": "code",
   "execution_count": null,
   "metadata": {},
   "outputs": [],
   "source": []
  }
 ],
 "metadata": {
  "kernelspec": {
   "display_name": "Python 3",
   "language": "python",
   "name": "python3"
  },
  "language_info": {
   "codemirror_mode": {
    "name": "ipython",
    "version": 3
   },
   "file_extension": ".py",
   "mimetype": "text/x-python",
   "name": "python",
   "nbconvert_exporter": "python",
   "pygments_lexer": "ipython3",
   "version": "3.6.5"
  }
 },
 "nbformat": 4,
 "nbformat_minor": 2
}
