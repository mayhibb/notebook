{
 "cells": [
  {
   "cell_type": "markdown",
   "metadata": {},
   "source": [
    "# set\n",
    "\n",
    "## add(...)\n",
    "Add an element to a set.\n",
    "This has no effect if the element is already present.\n",
    "\n",
    "## update(...)\n",
    "Update a set with the union of itself and others.\n",
    "\n",
    "## copy(...)\n",
    "Return a shallow copy of a set.\n",
    "\n",
    "## discard(...)\n",
    "Remove an element from a set if it is a member.\n",
    "If the element is not a member, do nothing.\n",
    "\n",
    "## pop(...)\n",
    "Remove and return an arbitrary set element.\n",
    "Raises KeyError if the set is empty.\n",
    "\n",
    "## remove(...)\n",
    "Remove an element from a set; it must be a member.\n",
    "If the element is not a member, raise a KeyError.\n",
    "\n",
    "## clear(...)\n",
    "Remove all elements from this set.\n",
    "\n",
    "\n",
    "## difference(...)\n",
    "Return the difference of two or more sets as a new set.\n",
    "(i.e. all elements that are in this set but not the others.)\n",
    "\n",
    "## difference_update(...)\n",
    "Remove all elements of another set from this set.\n",
    "\n",
    "## intersection(...)\n",
    "Return the intersection of two sets as a new set.\n",
    "(i.e. all elements that are in both sets.)\n",
    "\n",
    "## intersection_update(...)\n",
    "Update a set with the intersection of itself and another.\n",
    "\n",
    "## isdisjoint(...)\n",
    "Return True if two sets have a null intersection.\n",
    "\n",
    "## issubset(...)\n",
    "Report whether another set contains this set.\n",
    "\n",
    "## issuperset(...)\n",
    "Report whether this set contains another set.\n",
    "\n",
    "## symmetric_difference(...)\n",
    "Return the symmetric difference of two sets as a new set.\n",
    "(i.e. all elements that are in exactly one of the sets.)\n",
    "\n",
    "## symmetric_difference_update(...)\n",
    "Update a set with the symmetric difference of itself and another.\n",
    "\n",
    "## union(...)\n",
    "Return the union of sets as a new set.\n",
    "(i.e. all elements that are in either set.)\n",
    "\n"
   ]
  },
  {
   "cell_type": "code",
   "execution_count": 12,
   "metadata": {},
   "outputs": [
    {
     "name": "stdout",
     "output_type": "stream",
     "text": [
      "{1, 2, 3, 4, 5, 6, 7, 8, 9, 1121233}\n",
      "{1, 2, 3, 4, 5, 6, 7, 8, 9, 1121233}\n",
      "{0, 1, 2, 3, 4, 5, 6, 7, 8, 9, 10, 1121233}\n",
      "* * * * * * * * * * \n",
      "0\n",
      "remove的Key,必须在set中\n",
      "11111\n",
      "* * * * * * * * * * \n",
      "{2, 4, 5, 6, 7, 8, 9, 10, 1121233}\n",
      "{2, 4, 5, 6, 7, 8, 9, 10, 1121233}\n",
      "set()\n"
     ]
    }
   ],
   "source": [
    "# add / update / copy / pop / discard / remove / clear\n",
    "\n",
    "s1 = {1,2,3,4,5,6,7,8,9}\n",
    "s2 = {0,1,2,3,4,5,6,7,8,9,10}\n",
    "s3 = {0,10}\n",
    "\n",
    "\n",
    "s1.add(1121233)\n",
    "print(s1)\n",
    "s2 = s1.copy()\n",
    "print(s2)\n",
    "s1.update(s3)\n",
    "print(s1)\n",
    "\n",
    "print(\"* \"*10)\n",
    "\n",
    "print(s1.pop())\n",
    "\n",
    "s1.remove(1)\n",
    "try:\n",
    "    s1.remove(11111)\n",
    "except KeyError as error:\n",
    "    print(\"remove的Key,必须在set中\")\n",
    "    print(error)\n",
    "print(\"* \"*10)\n",
    "\n",
    "s1.discard(3)\n",
    "print(s1)\n",
    "s1.discard(123123212)# 没有key也不会报错\n",
    "print(s1)\n",
    "\n",
    "s1.clear()\n",
    "print(s1)"
   ]
  },
  {
   "cell_type": "code",
   "execution_count": 20,
   "metadata": {},
   "outputs": [
    {
     "name": "stdout",
     "output_type": "stream",
     "text": [
      "{1, 2, 3, 4, 5, 6, 7, 8, 9}\n",
      "set()\n",
      "{0, 1, 2, 3, 4, 5, 6, 7, 8, 9, 10}\n",
      "{0, 1, 2, 3, 4, 5, 6, 7, 8, 9, 10}\n",
      "set()\n",
      "{1, 2, 3, 4, 5, 6, 7, 8, 9}\n",
      "* * * * * * * * * * \n",
      "{1, 2, 3, 4, 5, 6, 7, 8, 9}\n",
      "set()\n",
      "{0, 1, 2, 3, 4, 5, 6, 7, 8, 9, 10}\n",
      "{0, 1, 2, 3, 4, 5, 6, 7, 8, 9, 10}\n",
      "set()\n",
      "{1, 2, 3, 4, 5, 6, 7, 8, 9}\n"
     ]
    }
   ],
   "source": [
    "# s1 & s2 / s1 | s2 / s1-s2\n",
    "s1 = {1,2,3,4,5,6,7,8,9}\n",
    "s2 = {0,1,2,3,4,5,6,7,8,9,10}\n",
    "s3 = {0,10}\n",
    "print(s1 & s2)\n",
    "print(s1 & s3)\n",
    "print(s1 | s2)\n",
    "print(s1 | s3)\n",
    "print(s1 - s2)\n",
    "print(s1 - s3)\n",
    "print(\"* \"* 10)\n",
    "print(s1.intersection(s2))\n",
    "print(s1.intersection(s3))\n",
    "print(s1.union(s2))\n",
    "print(s1.union(s3))\n",
    "print(s1.difference(s2))\n",
    "print(s1.difference(s3))"
   ]
  },
  {
   "cell_type": "code",
   "execution_count": 30,
   "metadata": {},
   "outputs": [
    {
     "name": "stdout",
     "output_type": "stream",
     "text": [
      "{0, 1, 2, 3, 4, 5, 6, 7, 8, 9, 10}\n",
      "{1, 2, 3, 4, 5, 6, 7, 8, 9}\n",
      "{0, 1, 2, 3, 4, 5, 6, 7, 8, 9, 10}\n",
      "None\n",
      "{1, 2, 3, 4, 5, 6, 7, 8, 9}\n",
      "* * * * * * * * * * \n",
      "{1, 2, 3, 4, 5, 6, 7, 8, 9}\n",
      "set()\n",
      "{1, 2, 3, 4, 5, 6, 7, 8, 9}\n",
      "None\n",
      "set()\n",
      "* * * * * * * * * * \n",
      "{1, 2, 3, 4, 5, 6, 7, 8, 9}\n",
      "{0, 10}\n",
      "{1, 2, 3, 4, 5, 6, 7, 8, 9}\n",
      "None\n",
      "{0, 10}\n"
     ]
    }
   ],
   "source": [
    "# difference_update / intersection_update\n",
    "s1 = {1,2,3,4,5,6,7,8,9}\n",
    "s2 = {0,1,2,3,4,5,6,7,8,9,10}\n",
    "s3 = {0,10}\n",
    "print(s2)\n",
    "print(s2.difference(s3))# s2-s3\n",
    "print(s2)\n",
    "print(s2.difference_update(s3))# s2 = s2-s3\n",
    "print(s2)\n",
    "\n",
    "print(\"* \"*10)\n",
    "print(s1)\n",
    "print(s1.intersection(s3))\n",
    "print(s1)\n",
    "print(s1.intersection_update(s3))\n",
    "print(s1)\n",
    "print(\"* \"*10)    \n",
    "# symmetric_difference / symmetric_difference_update\n",
    "s1 = {1,2,3,4,5,6,7,8,9}\n",
    "s2 = {0,1,2,3,4,5,6,7,8,9,10}\n",
    "s3 = {0,10}\n",
    "\n",
    "print(s1)\n",
    "print(s1.symmetric_difference(s2))\n",
    "print(s1)\n",
    "print(s1.symmetric_difference_update(s2))\n",
    "print(s1)"
   ]
  },
  {
   "cell_type": "code",
   "execution_count": 33,
   "metadata": {},
   "outputs": [
    {
     "name": "stdout",
     "output_type": "stream",
     "text": [
      "False\n",
      "True\n",
      "* * * * * * * * * * \n",
      "True\n",
      "False\n"
     ]
    }
   ],
   "source": [
    "# isdisjoint / issubset / issuperset\n",
    "s1 = {1,2,3,4,5,6,7,8,9}\n",
    "s2 = {0,1,2,3,4,5,6,7,8,9,10}\n",
    "s3 = {0,10}\n",
    "print(s1.isdisjoint(s2))# 有交集返回False\n",
    "print(s1.isdisjoint(s3))# 没有交集返回True\n",
    "print(\"* \"*10)\n",
    "print(s1.issubset(s2))\n",
    "print(s1.issuperset(s2))"
   ]
  },
  {
   "cell_type": "code",
   "execution_count": null,
   "metadata": {},
   "outputs": [],
   "source": []
  }
 ],
 "metadata": {
  "kernelspec": {
   "display_name": "Python 3",
   "language": "python",
   "name": "python3"
  },
  "language_info": {
   "codemirror_mode": {
    "name": "ipython",
    "version": 3
   },
   "file_extension": ".py",
   "mimetype": "text/x-python",
   "name": "python",
   "nbconvert_exporter": "python",
   "pygments_lexer": "ipython3",
   "version": "3.6.5"
  }
 },
 "nbformat": 4,
 "nbformat_minor": 2
}
