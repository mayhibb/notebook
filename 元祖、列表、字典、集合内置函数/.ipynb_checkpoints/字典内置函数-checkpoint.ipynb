{
 "cells": [
  {
   "cell_type": "markdown",
   "metadata": {},
   "source": [
    "# dict\n",
    "\n",
    "## clear(...)\n",
    "- D.clear() -> None.  Remove all items from D.\n",
    "\n",
    "## copy(...)\n",
    "- D.copy() -> a shallow copy of D\n",
    "\n",
    "## get(self, key, default=None, /)\n",
    "- Return the value for key if key is in the dictionary, else default.\n",
    "\n",
    "## items(...)\n",
    "- D.items() -> a set-like object providing a view on D's items\n",
    "\n",
    "## keys(...)\n",
    "- D.keys() -> a set-like object providing a view on D's keys\n",
    "\n",
    "## values(...)\n",
    "- D.values() -> an object providing a view on D's values\n",
    "\n",
    "## pop(...)\n",
    "- D.pop(k[,d]) -> v, remove specified key and return the corresponding value.\n",
    "- If key is not found, d is returned if given, otherwise KeyError is raised\n",
    "\n",
    "## popitem(...)\n",
    "- D.popitem() -> (k, v), remove and return some (key, value) pair as a 2-tuple; but raise KeyError if D is empty.\n",
    "\n",
    "## setdefault(self, key, default=None, /)\n",
    "- Insert key with a value of default if key is not in the dictionary.\n",
    "- Return the value for key if key is in the dictionary, else default.\n",
    "\n",
    "## update(...)\n",
    "- D.update([E, ]**F) -> None.  Update D from dict/iterable E and F.\n",
    "- If E is present and has a .keys() method, then does:  for k in E: D[k] = E[k]\n",
    "- If E is present and lacks a .keys() method, then does:  for k, v in E: D[k] = v\n",
    "- In either case, this is followed by: for k in F:  D[k] = F[k]\n",
    "\n"
   ]
  },
  {
   "cell_type": "code",
   "execution_count": 33,
   "metadata": {},
   "outputs": [
    {
     "name": "stdout",
     "output_type": "stream",
     "text": [
      "{}\n",
      "{'a': 2222}\n",
      "{'a': 2222}\n",
      "{'a': 2222, 'b': 1000}\n",
      "* * * * * * * * * * \n",
      "{'a': 0, 'b': 1, 'c': 2, 'd': 3, 'e': 4, 'f': 5}\n",
      "{'a': 0, 'b': 1, 'c': 2, 'd': 3, 'e': 4, 'f': 5}\n",
      "2252952685664\n",
      "2252952683504\n",
      "0\n",
      "1\n",
      "None\n",
      "没有这个键\n",
      "{}\n"
     ]
    }
   ],
   "source": [
    "d1 = {}\n",
    "d2 = dict(((\"a\",0),(\"b\",1),(\"c\",2),(\"d\",3),(\"e\",4),(\"f\",5)))\n",
    "print(d1)\n",
    "d1[\"a\"] = 2222\n",
    "print(d1)\n",
    "d1.setdefault(\"a\",100000)# 因为“a”已经存在了，所以不设置，和update不一样，update会覆盖\n",
    "print(d1)\n",
    "d1.setdefault(\"b\",1000)# 因为没有“b”，设置了“b”\n",
    "print(d1)\n",
    "print(\"* \"*10)\n",
    "print(d2)\n",
    "d1.update(d2)# 用update，\"a\"，“b”的值被覆盖了\n",
    "print(d1)\n",
    "print(id(d1))\n",
    "print(id(d2))\n",
    "print(d1[\"a\"])\n",
    "print(d1.get(\"b\"))\n",
    "print(d1.get(\"h\"))\n",
    "print(d1.get(\"h\",\"没有这个键\"))\n",
    "d1.clear()\n",
    "print(d1)"
   ]
  },
  {
   "cell_type": "code",
   "execution_count": 19,
   "metadata": {},
   "outputs": [
    {
     "name": "stdout",
     "output_type": "stream",
     "text": [
      "dict_keys(['a', 'b', 'c', 'd', 'e', 'f'])\n",
      "dict_values([0, 1, 2, 3, 4, 5])\n",
      "('f', 5)\n"
     ]
    }
   ],
   "source": [
    "d1 = {'a': 0, 'b': 1, 'c': 2, 'd': 3, 'e': 4, 'f': 5}\n",
    "print(d1.keys())\n",
    "print(d1.values())\n",
    "print(d1.popitem())\n"
   ]
  },
  {
   "cell_type": "code",
   "execution_count": 23,
   "metadata": {},
   "outputs": [
    {
     "name": "stdout",
     "output_type": "stream",
     "text": [
      "1\n",
      "('f', 5)\n",
      "('e', 4)\n",
      "{'a': 0, 'c': 2, 'd': 3}\n"
     ]
    }
   ],
   "source": [
    "d1 = {'a': 0, 'b': 1, 'c': 2, 'd': 3, 'e': 4, 'f': 5}\n",
    "\n",
    "print(d1.pop(\"b\"))\n",
    "print(d1.popitem())# 最后一个\n",
    "print(d1.popitem())\n",
    "print(d1)"
   ]
  },
  {
   "cell_type": "code",
   "execution_count": 42,
   "metadata": {},
   "outputs": [
    {
     "name": "stdout",
     "output_type": "stream",
     "text": [
      "{'one': 1, 'two': 2, 'three': 3}\n",
      "{'one': 1, 'two': 2, 'three': 3}\n",
      "{'one': 1, 'two': 2, 'three': 3}\n",
      "{'one': 1, 'two': 2, 'three': 3}\n"
     ]
    }
   ],
   "source": [
    "\n",
    "d1 = dict(one=1,two=2,three=3)\n",
    "print(d1)\n",
    "d1 = dict(((\"one\",1),(\"two\",2),(\"three\",3)))\n",
    "print(d1)\n",
    "d1 = dict([(\"one\",1),(\"two\",2),(\"three\",3)])\n",
    "print(d1)\n",
    "d1 = {'one': 1, 'two': 2, 'three': 3}\n",
    "print(d1)"
   ]
  },
  {
   "cell_type": "code",
   "execution_count": null,
   "metadata": {},
   "outputs": [],
   "source": []
  }
 ],
 "metadata": {
  "kernelspec": {
   "display_name": "Python 3",
   "language": "python",
   "name": "python3"
  },
  "language_info": {
   "codemirror_mode": {
    "name": "ipython",
    "version": 3
   },
   "file_extension": ".py",
   "mimetype": "text/x-python",
   "name": "python",
   "nbconvert_exporter": "python",
   "pygments_lexer": "ipython3",
   "version": "3.6.5"
  }
 },
 "nbformat": 4,
 "nbformat_minor": 2
}
